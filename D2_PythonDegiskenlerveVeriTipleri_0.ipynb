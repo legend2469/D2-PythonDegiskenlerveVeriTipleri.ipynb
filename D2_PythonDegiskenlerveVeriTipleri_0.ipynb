{
  "nbformat": 4,
  "nbformat_minor": 0,
  "metadata": {
    "colab": {
      "provenance": []
    },
    "kernelspec": {
      "name": "python3",
      "display_name": "Python 3"
    },
    "language_info": {
      "name": "python"
    }
  },
  "cells": [
    {
      "cell_type": "code",
      "execution_count": null,
      "metadata": {
        "id": "kOBw0tsJsXu9"
      },
      "outputs": [],
      "source": [
        "# Geçerli değişken tanımlaması\n",
        "degisken_1 = 10\n",
        "Degisken_2 = 20\n",
        "_degisken3 = 30"
      ]
    },
    {
      "cell_type": "code",
      "source": [
        "# Geçersiz degisken tanımlaması\n",
        "1degisken = 40\n",
        "degisken-4 50"
      ],
      "metadata": {
        "colab": {
          "base_uri": "https://localhost:8080/",
          "height": 106
        },
        "id": "waUS6gnwwKoL",
        "outputId": "4cb83a85-24db-423d-a28f-47a9a9ca3377"
      },
      "execution_count": null,
      "outputs": [
        {
          "output_type": "error",
          "ename": "SyntaxError",
          "evalue": "invalid decimal literal (<ipython-input-2-6d224e4776b2>, line 2)",
          "traceback": [
            "\u001b[0;36m  File \u001b[0;32m\"<ipython-input-2-6d224e4776b2>\"\u001b[0;36m, line \u001b[0;32m2\u001b[0m\n\u001b[0;31m    1degisken = 40\u001b[0m\n\u001b[0m    ^\u001b[0m\n\u001b[0;31mSyntaxError\u001b[0m\u001b[0;31m:\u001b[0m invalid decimal literal\n"
          ]
        }
      ]
    },
    {
      "cell_type": "code",
      "source": [
        "# Degişken Tanımlama işlemi\n",
        "x = 5\n",
        "y = \"Merhaba Dünya\"\n",
        "print(x)\n",
        "print(y)"
      ],
      "metadata": {
        "colab": {
          "base_uri": "https://localhost:8080/"
        },
        "id": "9XNyUibqxIOA",
        "outputId": "636057a7-71d4-4305-f3c0-7c2c1681d882"
      },
      "execution_count": null,
      "outputs": [
        {
          "output_type": "stream",
          "name": "stdout",
          "text": [
            "5\n",
            "Merhaba Dünya\n"
          ]
        }
      ]
    },
    {
      "cell_type": "code",
      "source": [
        "# Integer - Tamsayı tanımlaması\n",
        "a = 10\n",
        "print(type(a))"
      ],
      "metadata": {
        "colab": {
          "base_uri": "https://localhost:8080/"
        },
        "id": "Xz-ip9xpyQYG",
        "outputId": "21e29778-fe9e-44aa-9b12-08c02d61bd80"
      },
      "execution_count": null,
      "outputs": [
        {
          "output_type": "stream",
          "name": "stdout",
          "text": [
            "<class 'int'>\n"
          ]
        }
      ]
    },
    {
      "cell_type": "code",
      "source": [
        "# float - Ondalıklı Sayı tanımlaması\n",
        "b = 20.5\n",
        "print(type(b))\n"
      ],
      "metadata": {
        "colab": {
          "base_uri": "https://localhost:8080/"
        },
        "id": "fxPDg_-Ry26f",
        "outputId": "220b0c59-0180-41a1-a913-e0f887f17c41"
      },
      "execution_count": null,
      "outputs": [
        {
          "output_type": "stream",
          "name": "stdout",
          "text": [
            "<class 'float'>\n"
          ]
        }
      ]
    },
    {
      "cell_type": "code",
      "source": [
        "# int'ten float çevrimin gerçekleştirilmesi\n",
        "x = 10\n",
        "y = float(x)\n",
        "print(y, type(y))"
      ],
      "metadata": {
        "colab": {
          "base_uri": "https://localhost:8080/"
        },
        "id": "ohuJsFHV0B3p",
        "outputId": "4a405fbd-3447-4fc0-bb99-7cbf572bb79b"
      },
      "execution_count": null,
      "outputs": [
        {
          "output_type": "stream",
          "name": "stdout",
          "text": [
            "10.0 <class 'float'>\n"
          ]
        }
      ]
    },
    {
      "cell_type": "code",
      "source": [
        "# String - Metinsel İçerik tanımlaması\n",
        "c = \"Python Programlama\"\n",
        "print(c)\n",
        "print(type(c))"
      ],
      "metadata": {
        "colab": {
          "base_uri": "https://localhost:8080/"
        },
        "id": "Dm-XEXaP6DbD",
        "outputId": "fa8bd6da-f7d2-4d19-809b-70929a0f8928"
      },
      "execution_count": null,
      "outputs": [
        {
          "output_type": "stream",
          "name": "stdout",
          "text": [
            "Python Programlama\n",
            "<class 'str'>\n"
          ]
        }
      ]
    },
    {
      "cell_type": "code",
      "source": [
        "# Boolean (True - False) - Doğru / Yanlış tanımlaması\n",
        "d = True\n",
        "e = False\n",
        "print(d)\n",
        "print(type(e))"
      ],
      "metadata": {
        "colab": {
          "base_uri": "https://localhost:8080/"
        },
        "id": "833sUEBN69Dj",
        "outputId": "225ad6fe-566b-4a73-8efe-e89a9fd3e671"
      },
      "execution_count": null,
      "outputs": [
        {
          "output_type": "stream",
          "name": "stdout",
          "text": [
            "True\n",
            "<class 'bool'>\n"
          ]
        }
      ]
    },
    {
      "cell_type": "code",
      "source": [
        "# List - Liste tanımlaması\n",
        "my_list = [1, 2, 3, 4, 5]\n",
        "print(type(my_list))\n",
        "print(my_list)"
      ],
      "metadata": {
        "colab": {
          "base_uri": "https://localhost:8080/"
        },
        "id": "rgriCMWD7bPG",
        "outputId": "874b1f17-9306-4073-d902-9039834e3706"
      },
      "execution_count": null,
      "outputs": [
        {
          "output_type": "stream",
          "name": "stdout",
          "text": [
            "<class 'list'>\n",
            "[1, 2, 3, 4, 5]\n"
          ]
        }
      ]
    },
    {
      "cell_type": "code",
      "source": [
        "# tuple - demet tanımlaması\n",
        "my_tuple = (1,2,3,4,5)\n",
        "print(type(my_tuple))\n",
        "print(my_tuple)"
      ],
      "metadata": {
        "colab": {
          "base_uri": "https://localhost:8080/"
        },
        "id": "qWW5ksr_9mhC",
        "outputId": "cfced544-0bfe-4371-9115-02477dbc5d1f"
      },
      "execution_count": null,
      "outputs": [
        {
          "output_type": "stream",
          "name": "stdout",
          "text": [
            "<class 'tuple'>\n",
            "(1, 2, 3, 4, 5)\n"
          ]
        }
      ]
    },
    {
      "cell_type": "code",
      "source": [
        "# Dictionary - Sözlük Örneği -> Öğrencilerin notlarını tutan bir sözlük\n",
        "notlar = {\n",
        "\"Ali\" : 85,\n",
        "\"Veli\" : 90,\n",
        "\"Ayşe\": 78\n",
        "}\n",
        "notlar[\"Fatma\"] = 92 # Yeni öğrenci ekleme\n",
        "notlar[\"Ali\"] = 88 # Bir öğrencinin notunu güncelleme\n",
        "print(notlar)"
      ],
      "metadata": {
        "colab": {
          "base_uri": "https://localhost:8080/"
        },
        "id": "qBzaOR7T-qG5",
        "outputId": "bdc9d1b5-a578-4243-e569-901787fc25cc"
      },
      "execution_count": 16,
      "outputs": [
        {
          "output_type": "stream",
          "name": "stdout",
          "text": [
            "{'Ali': 88, 'Veli': 90, 'Ayşe': 78, 'Fatma': 92}\n"
          ]
        }
      ]
    },
    {
      "cell_type": "code",
      "source": [
        "print(notlar.keys())   # dict_keys(['isim', 'yas', 'meslek'])\n",
        "print(notlar.values()) # dict_values(['Ahmet', 26, 'Mühendis'])\n",
        "print(notlar.items())  # dict_items([('isim', 'Ahmet'),('yas', 26), ('meslek', 'Mühendis')])"
      ],
      "metadata": {
        "colab": {
          "base_uri": "https://localhost:8080/"
        },
        "id": "akb9_R2BBHwx",
        "outputId": "54ebf78b-2397-4f8e-ee72-973c832e2874"
      },
      "execution_count": 17,
      "outputs": [
        {
          "output_type": "stream",
          "name": "stdout",
          "text": [
            "dict_keys(['Ali', 'Veli', 'Ayşe', 'Fatma'])\n",
            "dict_values([88, 90, 78, 92])\n",
            "dict_items([('Ali', 88), ('Veli', 90), ('Ayşe', 78), ('Fatma', 92)])\n"
          ]
        }
      ]
    },
    {
      "cell_type": "code",
      "source": [
        "# Set - Küme Örneği ->bir yazılım etkinliğine katılan kişilerin oluşturduğu kümeler\n",
        "kodyazanlar ={\"Ahmet\", \"Mehmet\", \"Ayşe\"}\n",
        "kodyazmayanlar ={\"Ayşe\", \"Fatma\",\"Veli\"}\n",
        "# Kafasına Göre Takılan Öğrenciler\n",
        "ortak = kodyazanlar.intersection(kodyazmayanlar)\n",
        "print(\"kod çalışması yapmayan öğrencilerin listesi:\", ortak)\n",
        "# Etkinlikte Kod Yazmayan Öğrencilerin Tespiti\n",
        "Kod_yazmayan = kodyazanlar.difference(kodyazmayanlar)\n",
        "print(\"Kod çalışmasıyapmayan öğrnci listesi:\", Kod_yazmayan)\n",
        "# Yazılım Eğitiminin Öğrrenci İmza Listesi\n",
        "imza_liste = kodyazanlar.union(kodyazmayanlar)\n",
        "print(\"Etkinlik katılımcıları:\", imza_liste)"
      ],
      "metadata": {
        "colab": {
          "base_uri": "https://localhost:8080/"
        },
        "id": "u9EKsKPvFWhf",
        "outputId": "91b62da0-6dc3-472c-d612-9b8433ae6c4c"
      },
      "execution_count": 4,
      "outputs": [
        {
          "output_type": "stream",
          "name": "stdout",
          "text": [
            "kod çalışması yapmayan öğrencilerin listesi: {'Ayşe'}\n",
            "Kod çalışmasıyapmayan öğrnci listesi: {'Ahmet', 'Mehmet'}\n",
            "Etkinlik katılımcıları: {'Veli', 'Mehmet', 'Ayşe', 'Fatma', 'Ahmet'}\n"
          ]
        }
      ]
    },
    {
      "cell_type": "code",
      "source": [
        "giris = input(\"Bir sayı girin: \")\n",
        "try:\n",
        "  num= float(giris)\n",
        "  print(f\"Girilen sayı: {num}, tipi: {type(num)},\", abs(num))\n",
        "except ValueError:\n",
        "    print(\"Geçersiz veri girdiniz.\")"
      ],
      "metadata": {
        "colab": {
          "base_uri": "https://localhost:8080/"
        },
        "id": "BhQPNc2MK6rq",
        "outputId": "52faa3f8-57c1-45ef-b8e2-2858ae03d36c"
      },
      "execution_count": 6,
      "outputs": [
        {
          "output_type": "stream",
          "name": "stdout",
          "text": [
            "Bir sayı girin: -12\n",
            "Girilen sayı: -12.0, tipi: <class 'float'>, 12.0\n"
          ]
        }
      ]
    }
  ]
}